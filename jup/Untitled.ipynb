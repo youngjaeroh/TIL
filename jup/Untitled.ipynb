{
 "cells": [
  {
   "cell_type": "code",
   "execution_count": 1,
   "id": "ba60cefb",
   "metadata": {},
   "outputs": [
    {
     "ename": "NameError",
     "evalue": "name '주머니' is not defined",
     "output_type": "error",
     "traceback": [
      "\u001b[1;31m---------------------------------------------------------------------------\u001b[0m",
      "\u001b[1;31mNameError\u001b[0m                                 Traceback (most recent call last)",
      "\u001b[1;32m<ipython-input-1-dfa5f1f11701>\u001b[0m in \u001b[0;36m<module>\u001b[1;34m\u001b[0m\n\u001b[1;32m----> 1\u001b[1;33m \u001b[1;32mif\u001b[0m \u001b[1;36m3000\u001b[0m \u001b[1;32min\u001b[0m \u001b[0m주머니\u001b[0m\u001b[1;33m:\u001b[0m\u001b[1;33m\u001b[0m\u001b[1;33m\u001b[0m\u001b[0m\n\u001b[0m\u001b[0;32m      2\u001b[0m     \u001b[0m택시이용\u001b[0m\u001b[1;33m\u001b[0m\u001b[1;33m\u001b[0m\u001b[0m\n",
      "\u001b[1;31mNameError\u001b[0m: name '주머니' is not defined"
     ]
    }
   ],
   "source": [
    "if 3000 in 주머니:\n",
    "    택시이용"
   ]
  },
  {
   "cell_type": "code",
   "execution_count": 2,
   "id": "af87892e",
   "metadata": {},
   "outputs": [],
   "source": [
    "s=70"
   ]
  },
  {
   "cell_type": "code",
   "execution_count": 3,
   "id": "215d1f88",
   "metadata": {},
   "outputs": [
    {
     "name": "stdout",
     "output_type": "stream",
     "text": [
      "합격\n"
     ]
    }
   ],
   "source": [
    "if s >= 60:\n",
    "    print(\"합격\")\n",
    "else:\n",
    "    print(\"불합\")"
   ]
  },
  {
   "cell_type": "code",
   "execution_count": 4,
   "id": "d1f8f8ff",
   "metadata": {},
   "outputs": [
    {
     "name": "stdout",
     "output_type": "stream",
     "text": [
      "합격\n"
     ]
    }
   ],
   "source": [
    "print(\"합격\") if s >= 60 else print(\"불합\")"
   ]
  },
  {
   "cell_type": "code",
   "execution_count": 5,
   "id": "fd12d5a0",
   "metadata": {},
   "outputs": [
    {
     "data": {
      "text/plain": [
       "[12, 27, 4, 7, 44]"
      ]
     },
     "execution_count": 5,
     "metadata": {},
     "output_type": "execute_result"
    }
   ],
   "source": [
    "import random\n",
    "random.sample([x for x in range(1,46)],5)"
   ]
  },
  {
   "cell_type": "code",
   "execution_count": null,
   "id": "1952ac3f",
   "metadata": {},
   "outputs": [],
   "source": []
  }
 ],
 "metadata": {
  "kernelspec": {
   "display_name": "Python 3",
   "language": "python",
   "name": "python3"
  },
  "language_info": {
   "codemirror_mode": {
    "name": "ipython",
    "version": 3
   },
   "file_extension": ".py",
   "mimetype": "text/x-python",
   "name": "python",
   "nbconvert_exporter": "python",
   "pygments_lexer": "ipython3",
   "version": "3.8.8"
  }
 },
 "nbformat": 4,
 "nbformat_minor": 5
}
