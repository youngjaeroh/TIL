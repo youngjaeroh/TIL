{
 "cells": [
  {
   "cell_type": "code",
   "execution_count": 9,
   "id": "ccf717ce",
   "metadata": {},
   "outputs": [
    {
     "name": "stdout",
     "output_type": "stream",
     "text": [
      "{1, 2, 3, 4, 5}\n"
     ]
    }
   ],
   "source": [
    "a = [1, 1, 1, 2, 2, 3, 3, 3, 4, 4, 5]\n",
    "print(set(a))"
   ]
  },
  {
   "cell_type": "code",
   "execution_count": 10,
   "id": "54a7af14",
   "metadata": {},
   "outputs": [
    {
     "name": "stdout",
     "output_type": "stream",
     "text": [
      "23688\n"
     ]
    }
   ],
   "source": [
    "sum = 0\n",
    "i = 1\n",
    "while i<1001:\n",
    "    if i % 3 == 0:\n",
    "        if i % 7 == 0:\n",
    "            sum += i\n",
    "    i += 1 \n",
    "        \n",
    "print(sum)"
   ]
  },
  {
   "cell_type": "code",
   "execution_count": 11,
   "id": "38d54f22",
   "metadata": {},
   "outputs": [
    {
     "name": "stdout",
     "output_type": "stream",
     "text": [
      "*\n",
      "**\n",
      "***\n",
      "****\n",
      "*****\n"
     ]
    }
   ],
   "source": [
    "i = 1\n",
    "while i < 6:\n",
    "    data = \"*\"\n",
    "    print(data * i)\n",
    "    i += 1"
   ]
  },
  {
   "cell_type": "code",
   "execution_count": 12,
   "id": "5e2aee6c",
   "metadata": {},
   "outputs": [
    {
     "name": "stdout",
     "output_type": "stream",
     "text": [
      "1 2 3 4 5 6 7 8 9 10 11 12 13 14 15 16 17 18 19 20 21 22 23 24 25 26 27 28 29 30 31 32 33 34 35 36 37 38 39 40 41 42 43 44 45 46 47 48 49 50 51 52 53 54 55 56 57 58 59 60 61 62 63 64 65 66 67 68 69 70 71 72 73 74 75 76 77 78 79 80 81 82 83 84 85 86 87 88 89 90 91 92 93 94 95 96 97 98 99 100 "
     ]
    }
   ],
   "source": [
    "for i in range(1,101):\n",
    "    print(i,end=\" \")"
   ]
  },
  {
   "cell_type": "code",
   "execution_count": 13,
   "id": "37f16cd7",
   "metadata": {},
   "outputs": [
    {
     "name": "stdout",
     "output_type": "stream",
     "text": [
      "79\n"
     ]
    }
   ],
   "source": [
    "total = 0\n",
    "A = [70, 60, 55, 75, 95, 90, 80, 80, 85, 100]\n",
    "for i in A:\n",
    "    total += i\n",
    "    \n",
    "print(total // len(A))"
   ]
  },
  {
   "cell_type": "code",
   "execution_count": 14,
   "id": "74fa13fa",
   "metadata": {},
   "outputs": [
    {
     "name": "stdout",
     "output_type": "stream",
     "text": [
      "돈을 넣어 주세요 : 500\n",
      "거스름돈 200를 주고 커피를 줍니다.\n",
      "돈을 넣어 주세요 : 300\n",
      "커피를 줍니다.\n",
      "돈을 넣어 주세요 : 100\n",
      "돈을 다시돌려주고 커피를 주지 않습니다.\n",
      "남은 커피의 양은 8개 입니다.\n",
      "돈을 넣어 주세요 : 0\n",
      "종료합니다.\n"
     ]
    }
   ],
   "source": [
    "coffee = 10\n",
    "while True:\n",
    "    money = int(input(\"돈을 넣어 주세요 : \"))\n",
    "    if money > 300:\n",
    "        money -= 300\n",
    "        coffee -= 1\n",
    "        print(f\"거스름돈 {money}를 주고 커피를 줍니다.\")\n",
    "    elif money == 300:\n",
    "        coffee -= 1\n",
    "        print(\"커피를 줍니다.\")\n",
    "    elif money == 0:\n",
    "        print(\"종료합니다.\")\n",
    "        break\n",
    "    else:\n",
    "        print(\"돈을 다시돌려주고 커피를 주지 않습니다.\")\n",
    "        print(f\"남은 커피의 양은 {coffee}개 입니다.\")\n",
    "    \n"
   ]
  },
  {
   "cell_type": "code",
   "execution_count": null,
   "id": "902e3579",
   "metadata": {},
   "outputs": [],
   "source": []
  }
 ],
 "metadata": {
  "kernelspec": {
   "display_name": "Python 3",
   "language": "python",
   "name": "python3"
  },
  "language_info": {
   "codemirror_mode": {
    "name": "ipython",
    "version": 3
   },
   "file_extension": ".py",
   "mimetype": "text/x-python",
   "name": "python",
   "nbconvert_exporter": "python",
   "pygments_lexer": "ipython3",
   "version": "3.8.8"
  }
 },
 "nbformat": 4,
 "nbformat_minor": 5
}
